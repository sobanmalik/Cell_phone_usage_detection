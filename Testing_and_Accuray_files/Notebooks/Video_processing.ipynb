{
 "cells": [
  {
   "cell_type": "code",
   "execution_count": null,
   "metadata": {
    "scrolled": false
   },
   "outputs": [],
   "source": [
    "import cv2"
   ]
  },
  {
   "cell_type": "code",
   "execution_count": null,
   "metadata": {},
   "outputs": [],
   "source": [
    "vs = cv2.VideoCapture(\"C:/Users/TR1174/Desktop/CCTV PD/Training Videos/Outdoor/V2.mp4\")"
   ]
  },
  {
   "cell_type": "code",
   "execution_count": null,
   "metadata": {
    "scrolled": true
   },
   "outputs": [],
   "source": [
    "success = 1\n",
    "count = 0\n",
    "a=0\n",
    "while success:\n",
    "    success, image = vs.read() \n",
    "    count+=1 \n",
    "    # rotatimg frames\n",
    "    #image = cv2.transpose(image, image)\n",
    "    if count%5 ==0:\n",
    "        if a <10:\n",
    "            cv2.imwrite(\"C:/Users/TR1174/Desktop/CCTV PD/Dataset/Outdoor/V2_frames/00000%d.jpg\" % a, image)\n",
    "            a+=1\n",
    "        elif a>9 and a<100:\n",
    "            cv2.imwrite(\"C:/Users/TR1174/Desktop/CCTV PD/Dataset/Outdoor/V2_frames/0000%d.jpg\" % a, image)\n",
    "            a+=1\n",
    "        elif a>99 and a<1000:\n",
    "            cv2.imwrite(\"C:/Users/TR1174/Desktop/CCTV PD/Dataset/Outdoor/V2_frames/000%d.jpg\" % a, image)\n",
    "            a+=1\n",
    "        "
   ]
  },
  {
   "cell_type": "code",
   "execution_count": null,
   "metadata": {},
   "outputs": [],
   "source": [
    "import shutil\n",
    "import os\n",
    "\n",
    "source = 'C:/Users/TR1174/Desktop/CCTV PD/Dataset/Train_test_split/All_images/'\n",
    "dest1 = 'C:/Users/TR1174/Desktop/CCTV PD/Dataset/yolo_data/phone_hand/'\n",
    "\n",
    "\n",
    "files = os.listdir(source)\n",
    "\n",
    "for f in files:\n",
    "    if 'UCP' in f:\n",
    "        shutil.copy(source+f, dest1)"
   ]
  },
  {
   "cell_type": "code",
   "execution_count": null,
   "metadata": {},
   "outputs": [],
   "source": [
    "##Phase 1\n",
    "import shutil\n",
    "import os\n",
    "\n",
    "source = 'C:/Users/TR1174/Desktop/CCTV PD/Dataset/Outdoor/V1_frames/'\n",
    "dest1 = 'C:/Users/TR1174/Desktop/CCTV PD/Dataset/Outdoor/V1_labels/'\n",
    "\n",
    "files_1 = os.listdir(dest1)\n",
    "labels = []\n",
    "for i in files_1:\n",
    "    name,ext = os.path.splitext(i)\n",
    "    labels.append(name)\n",
    "\n",
    "files = os.listdir(source)\n",
    "for f in files:\n",
    "    name, ext = os.path.splitext(f)\n",
    "    if name in labels:\n",
    "        shutil.copy(source+f, dest1)\n",
    "#for f in files:\n",
    " #   print(f)\n",
    "    #if 'txt' in f:\n",
    "     #   shutil.move(source+f, dest1)"
   ]
  },
  {
   "cell_type": "code",
   "execution_count": null,
   "metadata": {},
   "outputs": [],
   "source": [
    "import shutil\n",
    "import os\n",
    "\n",
    "source = 'C:/Users/TR1174/Desktop/SCRAPED/head/'\n",
    "files = os.listdir(source)\n",
    "x = [os.path.splitext(f)[0] for f in files]\n",
    "count = 0\n",
    "for i,j in zip(x, files):\n",
    "    count += 1\n",
    "    ext = os.path.splitext(j)[1]\n",
    "    print(i,j)\n",
    "    print(ext)\n",
    "    shutil.move(source+j, source+\"head_{:03}\".format(count) + str(ext) )"
   ]
  },
  {
   "cell_type": "code",
   "execution_count": null,
   "metadata": {},
   "outputs": [],
   "source": [
    "import shutil\n",
    "import os\n",
    "\n",
    "source = 'C:/Users/TR1174/Desktop/CCTV PD/Dataset/Outdoor/V2_labels_test/'\n",
    "files = os.listdir(source)\n",
    "x = [os.path.splitext(f)[0] for f in files]\n",
    "for i,j in zip(x, files):\n",
    "    ext = os.path.splitext(j)[1]\n",
    "    print(i,j)\n",
    "    print(ext)\n",
    "    shutil.move(source+j, source+'OV20'+ str(i[-3:]) + str(ext) )"
   ]
  },
  {
   "cell_type": "code",
   "execution_count": null,
   "metadata": {},
   "outputs": [],
   "source": [
    "import shutil\n",
    "import os\n",
    "\n",
    "source = 'C:/Users/TR1174/Desktop/convert2Yolo-master/example/scraped/images/'\n",
    "dest = 'C:/Users/TR1174/Desktop/convert2Yolo-master/example/scraped/labels/'\n",
    "\n",
    "files = os.listdir(source)\n",
    "x = [os.path.splitext(f)[0] for f in files]\n",
    "\n",
    "files_ = os.listdir(dest)\n",
    "y = [os.path.splitext(f)[0] for f in files_]\n",
    "\n",
    "for i in x:\n",
    "    if i not in y:\n",
    "        print(i)\n",
    "        os.remove(source + i + '.jpg' )"
   ]
  },
  {
   "cell_type": "code",
   "execution_count": null,
   "metadata": {},
   "outputs": [],
   "source": [
    "import os\n",
    "path = 'C:/Users/TR1174/Desktop/CCTV PD/Dataset/Generated_Dataset/Final_DatasetG/yolo_annotations/'\n",
    "for each in os.listdir(path):\n",
    "    if each.endswith('txt'):\n",
    "        f = open(path+each,'r')\n",
    "        data = f.readlines()\n",
    "   #         print(each)\\n\"\n",
    "        for i in range(len(data)):\n",
    "            if data[i][:2] == '15':\n",
    "                #print(eachdata[i])\n",
    "                data[i] = data[i].replace(data[i][:2],'17')\n",
    "                print(data[i])\n",
    "            #elif data[i][:2] == '15':\n",
    "             #   print(eachdata[i])\n",
    "              #  data[i] = data[i].replace(data[i][:2]'16')\n",
    "               # print(data[i])\n",
    "            f = open('C:/Users/TR1174/Desktop/CCTV PD/Dataset/Generated_Dataset/Final_DatasetG/yolo_annotations/'+each,'w+')\n",
    "            f.writelines(data)"
   ]
  },
  {
   "cell_type": "code",
   "execution_count": null,
   "metadata": {},
   "outputs": [],
   "source": [
    "##Phase 1\n",
    "import shutil\n",
    "import os\n",
    "\n",
    "source = 'C:/Users/TR1174/Desktop/CCTV PD/Dataset/Train_test_split/All_images'\n",
    "dest1 = 'C:/Users/TR1174/Desktop/CCTV PD/Dataset/Train_test_split/All_labels'\n",
    "\n",
    "    \n",
    "files_1 = os.listdir(source)\n",
    "labels_1 = []\n",
    "for i in files_1:\n",
    "    name,ext = os.path.splitext(i)\n",
    "    labels_1.append(name)\n",
    "\n",
    "\n",
    "files = os.listdir(dest1)\n",
    "labels = []\n",
    "for i in files:\n",
    "    print(i)\n",
    "    name,ext = os.path.splitext(i)\n",
    "    for j in labels_1:\n",
    "        if name in j:\n",
    "            os.rename(dest1 + '/' + i, dest1 + '/' + j + str(ext))"
   ]
  },
  {
   "cell_type": "code",
   "execution_count": null,
   "metadata": {},
   "outputs": [],
   "source": [
    "path = 'C:/Users/TR1174/Desktop/CCTV PD/Dataset/Train_test_split/All_labels'\n",
    "files = os.listdir(path)\n",
    "for i in files:\n",
    "    shutil.move(path + '/' + i, path + '/' + str(i) + '.txt')"
   ]
  }
 ],
 "metadata": {
  "kernelspec": {
   "display_name": "Python 3",
   "language": "python",
   "name": "python3"
  },
  "language_info": {
   "codemirror_mode": {
    "name": "ipython",
    "version": 3
   },
   "file_extension": ".py",
   "mimetype": "text/x-python",
   "name": "python",
   "nbconvert_exporter": "python",
   "pygments_lexer": "ipython3",
   "version": "3.7.0"
  }
 },
 "nbformat": 4,
 "nbformat_minor": 2
}
