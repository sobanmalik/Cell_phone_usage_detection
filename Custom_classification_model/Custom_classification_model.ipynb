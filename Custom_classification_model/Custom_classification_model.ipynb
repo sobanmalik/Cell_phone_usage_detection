{
 "cells": [
  {
   "cell_type": "code",
   "execution_count": 2,
   "metadata": {},
   "outputs": [
    {
     "name": "stderr",
     "output_type": "stream",
     "text": [
      "Using TensorFlow backend.\n"
     ]
    }
   ],
   "source": [
    "from warnings import filterwarnings\n",
    "filterwarnings('ignore')\n",
    "import os\n",
    "os.environ['KERAS_BACKEND'] = 'tensorflow'\n",
    "import keras\n",
    "from keras.preprocessing.image import ImageDataGenerator\n",
    "from keras.models import Model,Sequential\n",
    "from keras.layers import Conv2D,MaxPooling2D,BatchNormalization\n",
    "from keras.layers import Activation,Dropout,Flatten,Dense,GlobalAveragePooling2D\n",
    "from keras import backend as K\n",
    "from keras.optimizers import *\n",
    "from keras.callbacks import ModelCheckpoint,EarlyStopping,LearningRateScheduler\n",
    "import numpy as np\n",
    "seed = 9\n",
    "np.random.seed(seed=seed)\n",
    "tf.set_random_seed(seed=seed)\n",
    "from PIL import ImageFile\n",
    "ImageFile.LOAD_TRUNCATED_IMAGES = True"
   ]
  },
  {
   "cell_type": "code",
   "execution_count": 4,
   "metadata": {},
   "outputs": [],
   "source": [
    "transformation_ratio = 0.05\n",
    "momentum = 0.9\n",
    "img_width,img_height = 416,416\n",
    "batch_size = 32\n",
    "nb_epoch= 100\n",
    "learn_rate = 1e-4\n",
    "nb_classes = 2"
   ]
  },
  {
   "cell_type": "code",
   "execution_count": 7,
   "metadata": {},
   "outputs": [
    {
     "name": "stdout",
     "output_type": "stream",
     "text": [
      "Found 554 images belonging to 2 classes.\n",
      "Found 138 images belonging to 2 classes.\n",
      "{'phone_hand': 0, 'phone_head': 1}\n"
     ]
    }
   ],
   "source": [
    "train_data_dir = 'Classification Dataset/train'\n",
    "validation_data_dir = 'Classification Dataset/val'\n",
    "train_datagen = ImageDataGenerator(rescale = 1./255,\n",
    "                                   shear_range = 0.2,\n",
    "                                   zoom_range = 0.2,\n",
    "                                   horizontal_flip = True,\n",
    "                                   width_shift_range=0.2,\n",
    "                                   height_shift_range=0.2,\n",
    "                                   rotation_range=15,\n",
    "#                                    vertical_flip=True,\n",
    "                                   fill_mode='reflect',\n",
    "                                   data_format='channels_last',\n",
    "                                   brightness_range=[0.5, 1.5],\n",
    "                                   featurewise_center=True,\n",
    "                                   featurewise_std_normalization=True)\n",
    "\n",
    "validation_datagen = ImageDataGenerator(rescale=1. / 255)\n",
    "\n",
    "train_generator = train_datagen.flow_from_directory(train_data_dir,\n",
    "                                                    target_size=(img_width, img_height),\n",
    "                                                    batch_size=batch_size,\n",
    "                                                    class_mode='categorical')\n",
    "\n",
    "validation_generator = validation_datagen.flow_from_directory(validation_data_dir,\n",
    "                                                              target_size=(img_width, img_height),\n",
    "                                                              batch_size=batch_size,\n",
    "                                                              class_mode='categorical')\n",
    "\n",
    "label_map = (train_generator.class_indices)\n",
    "print(label_map)\n"
   ]
  },
  {
   "cell_type": "code",
   "execution_count": 8,
   "metadata": {},
   "outputs": [],
   "source": [
    "def schedule(epoch, decay=0.9):\n",
    "    return base_lr * decay**(epoch)"
   ]
  },
  {
   "cell_type": "code",
   "execution_count": 9,
   "metadata": {},
   "outputs": [],
   "source": [
    "# base_lr = 1e-4\n",
    "path_to_weights = \"/custom_weights-{epoch:02d}-{val_loss:.2f}.h5\"\n",
    "callbacks_list = [\n",
    "    ModelCheckpoint(path_to_weights,monitor = 'val_loss',verbose = 1,save_weights_only = False),\n",
    "#     EarlyStopping(monitor = 'val_loss',patience = 5,verbose = 1)\n",
    "#     LearningRateScheduler(schedule,verbose = 1)\n",
    "]"
   ]
  },
  {
   "cell_type": "code",
   "execution_count": 14,
   "metadata": {},
   "outputs": [],
   "source": [
    "input_shape = (416,416,3)\n",
    "model = Sequential()\n",
    "\n",
    "model.add(Conv2D(32, (3, 3), border_mode='same', input_shape=input_shape, activation='relu'))\n",
    "model.add(Conv2D(32, (3, 3), border_mode='same', activation='relu'))\n",
    "model.add(MaxPooling2D(pool_size=(2, 2)))\n",
    "\n",
    "model.add(Conv2D(64, (3, 3), border_mode='same', activation='relu'))\n",
    "model.add(Conv2D(64, (3, 3), border_mode='same', activation='relu'))\n",
    "model.add(MaxPooling2D(pool_size=(2, 2)))\n",
    "\n",
    "model.add(Conv2D(128, (3, 3), border_mode='same', activation='relu'))\n",
    "model.add(Conv2D(128, (3, 3), border_mode='same', activation='relu'))\n",
    "# model.add(BatchNormalization())\n",
    "model.add(MaxPooling2D(pool_size=(2, 2)))\n",
    "\n",
    "# model.add(Conv2D(256,(3, 3), border_mode='same', activation='relu'))\n",
    "# model.add(Conv2D(256,(3, 3), border_mode='same', activation='relu'))\n",
    "# model.add(Conv2D(256, (3, 3), border_mode='same', activation='relu'))\n",
    "# # model.add(BatchNormalization())\n",
    "# model.add(MaxPooling2D(pool_size=(2, 2)))\n",
    "\n",
    "model.add(Conv2D(512,(3, 3), border_mode='same', activation='relu'))\n",
    "model.add(Conv2D(512,(3, 3), border_mode='same', activation='relu'))\n",
    "model.add(Conv2D(512, (3, 3), border_mode='same', activation='relu'))\n",
    "model.add(BatchNormalization())\n",
    "model.add(MaxPooling2D(pool_size=(2, 2)))\n",
    "\n",
    "model.add(Flatten())\n",
    "model.add(Dense(1024, activation='relu'))\n",
    "model.add(Dropout(0.5))\n",
    "model.add(Dense(1024, activation='relu'))\n",
    "model.add(Dropout(0.5))\n",
    "# model.add(GlobalAveragePooling2D())\n",
    "model.add(Dense(2))\n",
    "model.add(Activation('sigmoid'))\n",
    "    \n"
   ]
  },
  {
   "cell_type": "code",
   "execution_count": 15,
   "metadata": {},
   "outputs": [
    {
     "name": "stdout",
     "output_type": "stream",
     "text": [
      "Model: \"sequential_2\"\n",
      "_________________________________________________________________\n",
      "Layer (type)                 Output Shape              Param #   \n",
      "=================================================================\n",
      "conv2d_7 (Conv2D)            (None, 416, 416, 32)      896       \n",
      "_________________________________________________________________\n",
      "conv2d_8 (Conv2D)            (None, 416, 416, 32)      9248      \n",
      "_________________________________________________________________\n",
      "max_pooling2d_5 (MaxPooling2 (None, 208, 208, 32)      0         \n",
      "_________________________________________________________________\n",
      "conv2d_9 (Conv2D)            (None, 208, 208, 64)      18496     \n",
      "_________________________________________________________________\n",
      "conv2d_10 (Conv2D)           (None, 208, 208, 64)      36928     \n",
      "_________________________________________________________________\n",
      "max_pooling2d_6 (MaxPooling2 (None, 104, 104, 64)      0         \n",
      "_________________________________________________________________\n",
      "conv2d_11 (Conv2D)           (None, 104, 104, 128)     73856     \n",
      "_________________________________________________________________\n",
      "conv2d_12 (Conv2D)           (None, 104, 104, 128)     147584    \n",
      "_________________________________________________________________\n",
      "max_pooling2d_7 (MaxPooling2 (None, 52, 52, 128)       0         \n",
      "_________________________________________________________________\n",
      "max_pooling2d_8 (MaxPooling2 (None, 26, 26, 128)       0         \n",
      "_________________________________________________________________\n",
      "flatten_2 (Flatten)          (None, 86528)             0         \n",
      "_________________________________________________________________\n",
      "dense_4 (Dense)              (None, 1024)              88605696  \n",
      "_________________________________________________________________\n",
      "dropout_3 (Dropout)          (None, 1024)              0         \n",
      "_________________________________________________________________\n",
      "dense_5 (Dense)              (None, 1024)              1049600   \n",
      "_________________________________________________________________\n",
      "dropout_4 (Dropout)          (None, 1024)              0         \n",
      "_________________________________________________________________\n",
      "dense_6 (Dense)              (None, 2)                 2050      \n",
      "_________________________________________________________________\n",
      "activation_2 (Activation)    (None, 2)                 0         \n",
      "=================================================================\n",
      "Total params: 89,944,354\n",
      "Trainable params: 89,944,354\n",
      "Non-trainable params: 0\n",
      "_________________________________________________________________\n"
     ]
    }
   ],
   "source": [
    "model.summary()"
   ]
  },
  {
   "cell_type": "code",
   "execution_count": 16,
   "metadata": {},
   "outputs": [],
   "source": [
    "model.compile(loss='binary_crossentropy',\n",
    "            optimizer=keras.optimizers.Adamax(lr=learn_rate, beta_1=0.9, beta_2=0.999),\n",
    "            metrics=['accuracy'])"
   ]
  },
  {
   "cell_type": "code",
   "execution_count": 1,
   "metadata": {},
   "outputs": [
    {
     "ename": "NameError",
     "evalue": "name 'model' is not defined",
     "output_type": "error",
     "traceback": [
      "\u001b[1;31m---------------------------------------------------------------------------\u001b[0m",
      "\u001b[1;31mNameError\u001b[0m                                 Traceback (most recent call last)",
      "\u001b[1;32m<ipython-input-1-4251f34b90e7>\u001b[0m in \u001b[0;36m<module>\u001b[1;34m\u001b[0m\n\u001b[1;32m----> 1\u001b[1;33m history = model.fit_generator(train_generator,\n\u001b[0m\u001b[0;32m      2\u001b[0m                              \u001b[0msamples_per_epoch\u001b[0m \u001b[1;33m=\u001b[0m \u001b[0mtrain_generator\u001b[0m\u001b[1;33m.\u001b[0m\u001b[0msamples\u001b[0m\u001b[1;33m,\u001b[0m\u001b[1;33m\u001b[0m\u001b[1;33m\u001b[0m\u001b[0m\n\u001b[0;32m      3\u001b[0m                              \u001b[0mnb_epoch\u001b[0m\u001b[1;33m=\u001b[0m \u001b[0mnb_epoch\u001b[0m\u001b[1;33m,\u001b[0m\u001b[1;33m\u001b[0m\u001b[1;33m\u001b[0m\u001b[0m\n\u001b[0;32m      4\u001b[0m                              \u001b[0mvalidation_data\u001b[0m \u001b[1;33m=\u001b[0m \u001b[0mvalidation_generator\u001b[0m\u001b[1;33m,\u001b[0m\u001b[1;33m\u001b[0m\u001b[1;33m\u001b[0m\u001b[0m\n\u001b[0;32m      5\u001b[0m                               \u001b[0mnb_val_samples\u001b[0m \u001b[1;33m=\u001b[0m \u001b[0mvalidation_generator\u001b[0m\u001b[1;33m.\u001b[0m\u001b[0msamples\u001b[0m\u001b[1;33m,\u001b[0m\u001b[1;33m\u001b[0m\u001b[1;33m\u001b[0m\u001b[0m\n",
      "\u001b[1;31mNameError\u001b[0m: name 'model' is not defined"
     ]
    }
   ],
   "source": [
    "history = model.fit_generator(train_generator,\n",
    "                             samples_per_epoch = train_generator.samples,\n",
    "                             nb_epoch= nb_epoch,\n",
    "                             validation_data = validation_generator,\n",
    "                              nb_val_samples = validation_generator.samples,\n",
    "                              callbacks = callbacks_list,\n",
    "                              )"
   ]
  },
  {
   "cell_type": "code",
   "execution_count": null,
   "metadata": {},
   "outputs": [],
   "source": [
    "import matplotlib.pyplot as plt\n",
    "\n",
    "print(history.history.keys())\n",
    "# summarize history for accuracy\n",
    "plt.plot(history.history['acc'])\n",
    "plt.plot(history.history['val_acc'])\n",
    "plt.title('model accuracy')\n",
    "plt.ylabel('accuracy')\n",
    "plt.xlabel('epoch')\n",
    "plt.legend(['train', 'test'], loc='upper left')\n",
    "plt.show()\n",
    "# summarize history for loss\n",
    "plt.plot(history.history['loss'])\n",
    "plt.plot(history.history['val_loss'])\n",
    "plt.title('model loss')\n",
    "plt.ylabel('loss')\n",
    "plt.xlabel('epoch')\n",
    "plt.legend(['train', 'test'], loc='upper left')\n",
    "plt.show()"
   ]
  },
  {
   "cell_type": "code",
   "execution_count": null,
   "metadata": {},
   "outputs": [],
   "source": [
    "score = model.evaluate_generator(validation_generator, validation_generator.samples/batch_size, workers=12)\n",
    "# print(score)"
   ]
  },
  {
   "cell_type": "code",
   "execution_count": 60,
   "metadata": {},
   "outputs": [
    {
     "name": "stdout",
     "output_type": "stream",
     "text": [
      "Correct: 76  Total:  158\n",
      "Loss:  7.753007888793945 Accuracy:  0.5189873421493965\n"
     ]
    }
   ],
   "source": [
    "scores = model.predict_generator(validation_generator, validation_generator.samples/batch_size, workers=12)\n",
    "\n",
    "correct = 0\n",
    "for i, n in enumerate(validation_generator.filenames):\n",
    "    if n.startswith(\"Person_Talking_Phone\") and scores[i][0] <= 0.5:\n",
    "        correct += 1\n",
    "    if n.startswith(\"Person_Using_Phone\") and scores[i][0] > 0.5:\n",
    "        correct += 1\n",
    "\n",
    "print(\"Correct:\", correct, \" Total: \", len(validation_generator.filenames))\n",
    "print(\"Loss: \", score[0], \"Accuracy: \", score[1])"
   ]
  },
  {
   "cell_type": "code",
   "execution_count": 10,
   "metadata": {},
   "outputs": [
    {
     "name": "stdout",
     "output_type": "stream",
     "text": [
      "/home/u37306/Custom/Model_weights/custom_weights-60-0.73.h5\n"
     ]
    }
   ],
   "source": [
    "files = os.listdir(\"/home/u37306/Custom/Model_weights_416x416/\")\n",
    "files = [os.path.join(\"/home/u37306/Custom/Model_weights_416x416/\", f) for f in files]\n",
    "files.sort(key=lambda x: os.path.getmtime(x))\n",
    "print(files[-1])\n",
    "fname = files[-1].split('/')[-1]\n",
    "epochs_done = int(fname.split(\"-\")[1])"
   ]
  },
  {
   "cell_type": "code",
   "execution_count": 11,
   "metadata": {},
   "outputs": [
    {
     "name": "stdout",
     "output_type": "stream",
     "text": [
      "WARNING:tensorflow:From /home/u37306/.conda/envs/SSD/lib/python3.6/site-packages/keras/backend/tensorflow_backend.py:976: The name tf.assign_add is deprecated. Please use tf.compat.v1.assign_add instead.\n",
      "\n",
      "WARNING:tensorflow:From /home/u37306/.conda/envs/SSD/lib/python3.6/site-packages/keras/backend/tensorflow_backend.py:963: The name tf.assign is deprecated. Please use tf.compat.v1.assign instead.\n",
      "\n",
      "<keras.models.Sequential object at 0x7fd690095860>\n"
     ]
    }
   ],
   "source": [
    "from keras import models\n",
    "model = models.load_model(files[-1])\n",
    "print(model)"
   ]
  }
 ],
 "metadata": {
  "kernelspec": {
   "display_name": "Python 3",
   "language": "python",
   "name": "python3"
  },
  "language_info": {
   "codemirror_mode": {
    "name": "ipython",
    "version": 3
   },
   "file_extension": ".py",
   "mimetype": "text/x-python",
   "name": "python",
   "nbconvert_exporter": "python",
   "pygments_lexer": "ipython3",
   "version": "3.7.0"
  }
 },
 "nbformat": 4,
 "nbformat_minor": 2
}
